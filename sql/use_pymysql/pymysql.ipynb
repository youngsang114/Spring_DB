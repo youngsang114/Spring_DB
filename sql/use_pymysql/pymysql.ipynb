{
 "cells": [
  {
   "cell_type": "code",
   "execution_count": 41,
   "metadata": {},
   "outputs": [
    {
     "name": "stdout",
     "output_type": "stream",
     "text": [
      "Requirement already satisfied: pymysql in c:\\users\\dgh06\\appdata\\local\\programs\\python\\python310\\lib\\site-packages (1.1.0)\n",
      "Note: you may need to restart the kernel to use updated packages.\n"
     ]
    },
    {
     "name": "stderr",
     "output_type": "stream",
     "text": [
      "\n",
      "[notice] A new release of pip is available: 23.1.2 -> 23.2.1\n",
      "[notice] To update, run: python.exe -m pip install --upgrade pip\n"
     ]
    }
   ],
   "source": [
    "pip install pymysql"
   ]
  },
  {
   "cell_type": "markdown",
   "metadata": {},
   "source": [
    "## mysql과 python연동\n",
    "\n",
    "1. 라이브러리 설치\n",
    "2. sql 서버의 정보를 등록\n",
    "3. sql 서버에 접속\n",
    "4. sql 쿼리문을 이용한 작업"
   ]
  },
  {
   "cell_type": "markdown",
   "metadata": {},
   "source": [
    "## 상세 이용방법\n",
    "\n",
    "1. MySQL 연결하기 : 연결자 = pymysql.connect(연결옵션)\n",
    "2. 커서 생성하기  : 커서 = 연결자.cursor() \n",
    "    - Cursor : 데이터베이스에서 SQL문을 실행, 실행된 결과를 돌려받는 통로\n",
    "3. 테이블 만들기  : 커서이름.excute(\"Create Table 문장 = 쿼리문\")\n",
    "    - Excute : 만든 Cursor(통로)에 excute를 통해 쿼리문을 넘겨준다\n",
    "4. 데이터 입력하기: 커서이름.excute(\"insert 문장 = 쿼리문\")\n",
    "5. 입력한 데이터 저장하기 : 연결자.commit()\n",
    "    - commit : 데이터베이스 저장하기(TCL)   \n",
    "6. 연결자 종료하기 : 연결자.close()"
   ]
  },
  {
   "cell_type": "markdown",
   "metadata": {},
   "source": [
    "- fetchall() 을 이용해서 excute값을 반환받는다"
   ]
  },
  {
   "cell_type": "code",
   "execution_count": 42,
   "metadata": {},
   "outputs": [],
   "source": [
    "import pymysql\n",
    "import pandas as pd\n",
    "import numpy as np"
   ]
  },
  {
   "cell_type": "code",
   "execution_count": 43,
   "metadata": {},
   "outputs": [],
   "source": [
    "# Sql 서버의 종류 입력\n",
    "_db =pymysql.connect(\n",
    "    user =\"root\",\n",
    "    password='비밀번호',\n",
    "    host='localhost',\n",
    "    db='soloDB',\n",
    "    port=3306,\n",
    "    charset='utf8'\n",
    ")"
   ]
  },
  {
   "cell_type": "code",
   "execution_count": 44,
   "metadata": {},
   "outputs": [
    {
     "data": {
      "text/plain": [
       "<pymysql.connections.Connection at 0x139b4fdf1c0>"
      ]
     },
     "execution_count": 44,
     "metadata": {},
     "output_type": "execute_result"
    }
   ],
   "source": [
    "_db"
   ]
  },
  {
   "cell_type": "code",
   "execution_count": 45,
   "metadata": {},
   "outputs": [],
   "source": [
    "# cursor 변수 생성\n",
    "# sql 퀴리문을 실행 시키기 위한 필수 변수\n",
    "# Dictcursor는 sql 쿼리문이 실행되고 나온 데이터를 딕셔너리 형태로 받는다.\n",
    "cursor=_db.cursor(pymysql.cursors.DictCursor)\n"
   ]
  },
  {
   "cell_type": "code",
   "execution_count": 46,
   "metadata": {},
   "outputs": [
    {
     "data": {
      "text/plain": [
       "6"
      ]
     },
     "execution_count": 46,
     "metadata": {},
     "output_type": "execute_result"
    }
   ],
   "source": [
    "cursor.execute(\"show databases;\")"
   ]
  },
  {
   "cell_type": "code",
   "execution_count": 47,
   "metadata": {},
   "outputs": [
    {
     "name": "stdout",
     "output_type": "stream",
     "text": [
      "[{'Database': 'information_schema'}, {'Database': 'mysql'}, {'Database': 'performance_schema'}, {'Database': 'solodb'}, {'Database': 'sys'}, {'Database': 'ubion7'}]\n"
     ]
    }
   ],
   "source": [
    "result=cursor.fetchall()\n",
    "print(result)"
   ]
  },
  {
   "cell_type": "markdown",
   "metadata": {},
   "source": [
    "---"
   ]
  },
  {
   "cell_type": "code",
   "execution_count": 48,
   "metadata": {},
   "outputs": [],
   "source": [
    "sql=\"\"\" \n",
    "CREATE TABLE userTable \n",
    "(id char(4), userName char(15), email char(20), birthYear int)\n",
    "\n",
    "\"\"\""
   ]
  },
  {
   "cell_type": "code",
   "execution_count": 49,
   "metadata": {},
   "outputs": [
    {
     "data": {
      "text/plain": [
       "0"
      ]
     },
     "execution_count": 49,
     "metadata": {},
     "output_type": "execute_result"
    }
   ],
   "source": [
    "cursor.execute(sql)"
   ]
  },
  {
   "cell_type": "code",
   "execution_count": 50,
   "metadata": {},
   "outputs": [],
   "source": [
    "sql = '''\n",
    "INSERT INTO userTable VALUES\n",
    "('hong', '홍지윤', 'hong@naver.com', 1996),\n",
    "('kim', '김태연', 'kim@daum.net', 2011),\n",
    "('star', '별사랑', 'star@paran.com', 1990),\n",
    "('yang', '양지은', 'yang@gmail.com', 1993)\n",
    "'''"
   ]
  },
  {
   "cell_type": "code",
   "execution_count": 51,
   "metadata": {},
   "outputs": [
    {
     "data": {
      "text/plain": [
       "4"
      ]
     },
     "execution_count": 51,
     "metadata": {},
     "output_type": "execute_result"
    }
   ],
   "source": [
    "cursor.execute(sql)"
   ]
  },
  {
   "cell_type": "code",
   "execution_count": 54,
   "metadata": {},
   "outputs": [],
   "source": [
    "_db.commit()  # 변경 사항 커밋\n"
   ]
  },
  {
   "cell_type": "code",
   "execution_count": 55,
   "metadata": {},
   "outputs": [
    {
     "name": "stdout",
     "output_type": "stream",
     "text": [
      "     id userName           email  birthYear\n",
      "0  hong      홍지윤  hong@naver.com       1996\n",
      "1   kim      김태연    kim@daum.net       2011\n",
      "2  star      별사랑  star@paran.com       1990\n",
      "3  yang      양지은  yang@gmail.com       1993\n"
     ]
    }
   ],
   "source": [
    "# 데이터 조회 쿼리 실행\n",
    "select_sql = \"SELECT * FROM userTable\"\n",
    "cursor.execute(select_sql)\n",
    "result = cursor.fetchall()\n",
    "\n",
    "# DataFrame으로 변환\n",
    "df = pd.DataFrame(result, columns=['id', 'userName', 'email', 'birthYear'])\n",
    "\n",
    "# 데이터베이스 연결 종료\n",
    "_db.close()\n",
    "\n",
    "print(df)"
   ]
  },
  {
   "cell_type": "code",
   "execution_count": null,
   "metadata": {},
   "outputs": [],
   "source": []
  }
 ],
 "metadata": {
  "kernelspec": {
   "display_name": "Python 3",
   "language": "python",
   "name": "python3"
  },
  "language_info": {
   "codemirror_mode": {
    "name": "ipython",
    "version": 3
   },
   "file_extension": ".py",
   "mimetype": "text/x-python",
   "name": "python",
   "nbconvert_exporter": "python",
   "pygments_lexer": "ipython3",
   "version": "3.10.9"
  },
  "orig_nbformat": 4
 },
 "nbformat": 4,
 "nbformat_minor": 2
}
